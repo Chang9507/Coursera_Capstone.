{
    "cells": [
        {
            "cell_type": "markdown",
            "metadata": {
                "collapsed": true
            },
            "source": "# The Battle of Neighborhoods (Week 1)"
        },
        {
            "cell_type": "markdown",
            "metadata": {},
            "source": "## 1) Introduction/Business Problem"
        },
        {
            "cell_type": "markdown",
            "metadata": {},
            "source": "To choose a place to open a new hotel, considering transportation data with favorite venues and competitors information on Foursquare"
        },
        {
            "cell_type": "code",
            "execution_count": 2,
            "metadata": {},
            "outputs": [
                {
                    "name": "stdout",
                    "output_type": "stream",
                    "text": "Collecting folium\n\u001b[?25l  Downloading https://files.pythonhosted.org/packages/fd/a0/ccb3094026649cda4acd55bf2c3822bb8c277eb11446d13d384e5be35257/folium-0.10.1-py2.py3-none-any.whl (91kB)\n\u001b[K     |\u2588\u2588\u2588\u2588\u2588\u2588\u2588\u2588\u2588\u2588\u2588\u2588\u2588\u2588\u2588\u2588\u2588\u2588\u2588\u2588\u2588\u2588\u2588\u2588\u2588\u2588\u2588\u2588\u2588\u2588\u2588\u2588| 92kB 7.2MB/s eta 0:00:011\n\u001b[?25hRequirement already satisfied: numpy in /opt/conda/envs/Python36/lib/python3.6/site-packages (from folium) (1.15.4)\nCollecting branca>=0.3.0 (from folium)\n  Downloading https://files.pythonhosted.org/packages/81/6d/31c83485189a2521a75b4130f1fee5364f772a0375f81afff619004e5237/branca-0.4.0-py3-none-any.whl\nRequirement already satisfied: requests in /opt/conda/envs/Python36/lib/python3.6/site-packages (from folium) (2.21.0)\nRequirement already satisfied: jinja2>=2.9 in /opt/conda/envs/Python36/lib/python3.6/site-packages (from folium) (2.10)\nRequirement already satisfied: six in /opt/conda/envs/Python36/lib/python3.6/site-packages (from branca>=0.3.0->folium) (1.12.0)\nRequirement already satisfied: certifi>=2017.4.17 in /opt/conda/envs/Python36/lib/python3.6/site-packages (from requests->folium) (2019.11.28)\nRequirement already satisfied: urllib3<1.25,>=1.21.1 in /opt/conda/envs/Python36/lib/python3.6/site-packages (from requests->folium) (1.24.1)\nRequirement already satisfied: idna<2.9,>=2.5 in /opt/conda/envs/Python36/lib/python3.6/site-packages (from requests->folium) (2.8)\nRequirement already satisfied: chardet<3.1.0,>=3.0.2 in /opt/conda/envs/Python36/lib/python3.6/site-packages (from requests->folium) (3.0.4)\nRequirement already satisfied: MarkupSafe>=0.23 in /opt/conda/envs/Python36/lib/python3.6/site-packages (from jinja2>=2.9->folium) (1.1.0)\nInstalling collected packages: branca, folium\nSuccessfully installed branca-0.4.0 folium-0.10.1\n"
                }
            ],
            "source": "# 1. Import libraries that are needed\nimport numpy as np\nimport pandas as pd \n!pip install folium\nimport folium # to create map"
        },
        {
            "cell_type": "code",
            "execution_count": 1,
            "metadata": {},
            "outputs": [],
            "source": "#foursquare\nCLIENT_ID = 'V5W4CDD1NY1CY0KIL22NCAHNKF2CZRI1YRR2FDX3ZX5XE0L1' \nCLIENT_SECRET = 'DWNADAJR4OBB05ZQLIR4QZ5CDGSAUEGOWDNJPXAVEYLMHTR3' \nVERSION = '20200414' # Foursquare API version"
        },
        {
            "cell_type": "code",
            "execution_count": 31,
            "metadata": {},
            "outputs": [
                {
                    "data": {
                        "text/html": "<div>\n<style scoped>\n    .dataframe tbody tr th:only-of-type {\n        vertical-align: middle;\n    }\n\n    .dataframe tbody tr th {\n        vertical-align: top;\n    }\n\n    .dataframe thead th {\n        text-align: right;\n    }\n</style>\n<table border=\"1\" class=\"dataframe\">\n  <thead>\n    <tr style=\"text-align: right;\">\n      <th></th>\n      <th>Postal code</th>\n      <th>Borough</th>\n      <th>Neighborhood</th>\n    </tr>\n  </thead>\n  <tbody>\n    <tr>\n      <th>0</th>\n      <td>M1A</td>\n      <td>Not assigned</td>\n      <td></td>\n    </tr>\n    <tr>\n      <th>1</th>\n      <td>M2A</td>\n      <td>Not assigned</td>\n      <td></td>\n    </tr>\n    <tr>\n      <th>2</th>\n      <td>M3A</td>\n      <td>North York</td>\n      <td>Parkwoods</td>\n    </tr>\n    <tr>\n      <th>3</th>\n      <td>M4A</td>\n      <td>North York</td>\n      <td>Victoria Village</td>\n    </tr>\n    <tr>\n      <th>4</th>\n      <td>M5A</td>\n      <td>Downtown Toronto</td>\n      <td>Regent Park / Harbourfront</td>\n    </tr>\n  </tbody>\n</table>\n</div>",
                        "text/plain": "  Postal code           Borough                Neighborhood\n0         M1A      Not assigned                            \n1         M2A      Not assigned                            \n2         M3A        North York                   Parkwoods\n3         M4A        North York            Victoria Village\n4         M5A  Downtown Toronto  Regent Park / Harbourfront"
                    },
                    "execution_count": 31,
                    "metadata": {},
                    "output_type": "execute_result"
                }
            ],
            "source": "from bs4 import BeautifulSoup\nimport requests\nraw = requests.get(\"https://en.wikipedia.org/wiki/List_of_postal_codes_of_Canada:_M\")\nsoup = BeautifulSoup(raw.text, 'lxml')\n#get data from the page\ndata = []\ncolumns = []\ntable = soup.find(class_='wikitable')\nfor index, tr in enumerate(table.find_all('tr')):\n    section = []\n    for td in tr.find_all(['th','td']):\n        section.append(td.text.rstrip())\n    \n    #set header\n    if (index == 0):\n        columns = section\n    else:\n        data.append(section)\n\n#convert to df\nc_df = pd.DataFrame(data = data,columns = columns)\nc_df.head()"
        },
        {
            "cell_type": "code",
            "execution_count": 62,
            "metadata": {},
            "outputs": [
                {
                    "data": {
                        "text/html": "<div>\n<style scoped>\n    .dataframe tbody tr th:only-of-type {\n        vertical-align: middle;\n    }\n\n    .dataframe tbody tr th {\n        vertical-align: top;\n    }\n\n    .dataframe thead th {\n        text-align: right;\n    }\n</style>\n<table border=\"1\" class=\"dataframe\">\n  <thead>\n    <tr style=\"text-align: right;\">\n      <th></th>\n      <th>Postal code</th>\n      <th>Borough</th>\n      <th>Neighborhood</th>\n    </tr>\n  </thead>\n  <tbody>\n    <tr>\n      <th>2</th>\n      <td>M3A</td>\n      <td>North York</td>\n      <td>Parkwoods</td>\n    </tr>\n    <tr>\n      <th>3</th>\n      <td>M4A</td>\n      <td>North York</td>\n      <td>Victoria Village</td>\n    </tr>\n    <tr>\n      <th>4</th>\n      <td>M5A</td>\n      <td>Downtown Toronto</td>\n      <td>Regent Park / Harbourfront</td>\n    </tr>\n    <tr>\n      <th>5</th>\n      <td>M6A</td>\n      <td>North York</td>\n      <td>Lawrence Manor / Lawrence Heights</td>\n    </tr>\n    <tr>\n      <th>6</th>\n      <td>M7A</td>\n      <td>Downtown Toronto</td>\n      <td>Queen's Park / Ontario Provincial Government</td>\n    </tr>\n  </tbody>\n</table>\n</div>",
                        "text/plain": "  Postal code           Borough                                  Neighborhood\n2         M3A        North York                                     Parkwoods\n3         M4A        North York                              Victoria Village\n4         M5A  Downtown Toronto                    Regent Park / Harbourfront\n5         M6A        North York             Lawrence Manor / Lawrence Heights\n6         M7A  Downtown Toronto  Queen's Park / Ontario Provincial Government"
                    },
                    "execution_count": 62,
                    "metadata": {},
                    "output_type": "execute_result"
                }
            ],
            "source": "#delete not assign\nc_df = c_df[c_df['Borough'] != 'Not assigned']\nc_df.head()"
        },
        {
            "cell_type": "code",
            "execution_count": 63,
            "metadata": {},
            "outputs": [
                {
                    "data": {
                        "text/html": "<div>\n<style scoped>\n    .dataframe tbody tr th:only-of-type {\n        vertical-align: middle;\n    }\n\n    .dataframe tbody tr th {\n        vertical-align: top;\n    }\n\n    .dataframe thead th {\n        text-align: right;\n    }\n</style>\n<table border=\"1\" class=\"dataframe\">\n  <thead>\n    <tr style=\"text-align: right;\">\n      <th></th>\n      <th>post</th>\n      <th>Neighborhood</th>\n    </tr>\n  </thead>\n  <tbody>\n    <tr>\n      <th>2</th>\n      <td>M3A</td>\n      <td>Parkwoods</td>\n    </tr>\n    <tr>\n      <th>3</th>\n      <td>M4A</td>\n      <td>Victoria Village</td>\n    </tr>\n    <tr>\n      <th>4</th>\n      <td>M5A</td>\n      <td>Regent Park / Harbourfront</td>\n    </tr>\n    <tr>\n      <th>5</th>\n      <td>M6A</td>\n      <td>Lawrence Manor / Lawrence Heights</td>\n    </tr>\n    <tr>\n      <th>6</th>\n      <td>M7A</td>\n      <td>Queen's Park / Ontario Provincial Government</td>\n    </tr>\n  </tbody>\n</table>\n</div>",
                        "text/plain": "  post                                  Neighborhood\n2  M3A                                     Parkwoods\n3  M4A                              Victoria Village\n4  M5A                    Regent Park / Harbourfront\n5  M6A             Lawrence Manor / Lawrence Heights\n6  M7A  Queen's Park / Ontario Provincial Government"
                    },
                    "execution_count": 63,
                    "metadata": {},
                    "output_type": "execute_result"
                }
            ],
            "source": "#delete borough\nsplit1 = c_df.drop('Borough',1)\n\n#change column Postal code to post\nsplit1.columns = ['post', 'Neighborhood']\n\nsplit1.head()"
        },
        {
            "cell_type": "code",
            "execution_count": 66,
            "metadata": {},
            "outputs": [
                {
                    "data": {
                        "text/plain": "[['Parkwoods'],\n ['Victoria Village'],\n ['Regent Park ', ' Harbourfront'],\n ['Lawrence Manor ', ' Lawrence Heights'],\n [\"Queen's Park \", ' Ontario Provincial Government'],\n ['Islington Avenue'],\n ['Malvern ', ' Rouge'],\n ['Don Mills'],\n ['Parkview Hill ', ' Woodbine Gardens'],\n ['Garden District, Ryerson'],\n ['Glencairn'],\n ['West Deane Park ',\n  ' Princess Gardens ',\n  ' Martin Grove ',\n  ' Islington ',\n  ' Cloverdale'],\n ['Rouge Hill ', ' Port Union ', ' Highland Creek'],\n ['Don Mills'],\n ['Woodbine Heights'],\n ['St. James Town'],\n ['Humewood-Cedarvale'],\n ['Eringate ', ' Bloordale Gardens ', ' Old Burnhamthorpe ', ' Markland Wood'],\n ['Guildwood ', ' Morningside ', ' West Hill'],\n ['The Beaches'],\n ['Berczy Park'],\n ['Caledonia-Fairbanks'],\n ['Woburn'],\n ['Leaside'],\n ['Central Bay Street'],\n ['Christie'],\n ['Cedarbrae'],\n ['Hillcrest Village'],\n ['Bathurst Manor ', ' Wilson Heights ', ' Downsview North'],\n ['Thorncliffe Park'],\n ['Richmond ', ' Adelaide ', ' King'],\n ['Dufferin ', ' Dovercourt Village'],\n ['Scarborough Village'],\n ['Fairview ', ' Henry Farm ', ' Oriole'],\n ['Northwood Park ', ' York University'],\n ['East Toronto'],\n ['Harbourfront East ', ' Union Station ', ' Toronto Islands'],\n ['Little Portugal ', ' Trinity'],\n ['Kennedy Park ', ' Ionview ', ' East Birchmount Park'],\n ['Bayview Village'],\n ['Downsview'],\n ['The Danforth West ', ' Riverdale'],\n ['Toronto Dominion Centre ', ' Design Exchange'],\n ['Brockton ', ' Parkdale Village ', ' Exhibition Place'],\n ['Golden Mile ', ' Clairlea ', ' Oakridge'],\n ['York Mills ', ' Silver Hills'],\n ['Downsview'],\n ['India Bazaar ', ' The Beaches West'],\n ['Commerce Court ', ' Victoria Hotel'],\n ['North Park ', ' Maple Leaf Park ', ' Upwood Park'],\n ['Humber Summit'],\n ['Cliffside ', ' Cliffcrest ', ' Scarborough Village West'],\n ['Willowdale ', ' Newtonbrook'],\n ['Downsview'],\n ['Studio District'],\n ['Bedford Park ', ' Lawrence Manor East'],\n ['Del Ray ', ' Mount Dennis ', ' Keelsdale and Silverthorn'],\n ['Humberlea ', ' Emery'],\n ['Birch Cliff ', ' Cliffside West'],\n ['Willowdale'],\n ['Downsview'],\n ['Lawrence Park'],\n ['Roselawn'],\n ['Runnymede ', ' The Junction North'],\n ['Weston'],\n ['Dorset Park ', ' Wexford Heights ', ' Scarborough Town Centre'],\n ['York Mills West'],\n ['Davisville North'],\n ['Forest Hill North & West'],\n ['High Park ', ' The Junction South'],\n ['Westmount'],\n ['Wexford ', ' Maryvale'],\n ['Willowdale'],\n ['North Toronto West'],\n ['The Annex ', ' North Midtown ', ' Yorkville'],\n ['Parkdale ', ' Roncesvalles'],\n ['Canada Post Gateway Processing Centre'],\n ['Kingsview Village ',\n  ' St. Phillips ',\n  ' Martin Grove Gardens ',\n  ' Richview Gardens'],\n ['Agincourt'],\n ['Davisville'],\n ['University of Toronto ', ' Harbord'],\n ['Runnymede ', ' Swansea'],\n ['Clarks Corners ', \" Tam O'Shanter \", ' Sullivan'],\n ['Moore Park ', ' Summerhill East'],\n ['Kensington Market ', ' Chinatown ', ' Grange Park'],\n ['Milliken ', ' Agincourt North ', ' Steeles East ', \" L'Amoreaux East\"],\n ['Summerhill West ',\n  ' Rathnelly ',\n  ' South Hill ',\n  ' Forest Hill SE ',\n  ' Deer Park'],\n ['CN Tower ',\n  ' King and Spadina ',\n  ' Railway Lands ',\n  ' Harbourfront West ',\n  ' Bathurst\\n Quay ',\n  ' South Niagara ',\n  ' Island airport'],\n ['New Toronto ', ' Mimico South ', ' Humber Bay Shores'],\n ['South Steeles ',\n  ' Silverstone ',\n  ' Humbergate ',\n  ' Jamestown ',\n  ' Mount Olive ',\n  ' Beaumond Heights ',\n  ' Thistletown ',\n  ' Albion Gardens'],\n ['Steeles West ', \" L'Amoreaux West\"],\n ['Rosedale'],\n ['Stn A PO Boxes'],\n ['Alderwood ', ' Long Branch'],\n ['Northwest'],\n ['Upper Rouge'],\n ['St. James Town ', ' Cabbagetown'],\n ['First Canadian Place ', ' Underground city'],\n ['The Kingsway ', ' Montgomery Road  ', ' Old Mill North'],\n ['Church and Wellesley'],\n ['Business reply mail Processing CentrE'],\n ['Old Mill South ',\n  \" King's Mill Park \",\n  ' Sunnylea ',\n  ' Humber Bay ',\n  ' Mimico NE ',\n  ' The Queensway East ',\n  ' Royal York South East ',\n  ' Kingsway Park South East'],\n ['Mimico NW ',\n  ' The Queensway West ',\n  ' South of Bloor ',\n  ' Kingsway Park South West ',\n  ' Royal York South West']]"
                    },
                    "execution_count": 66,
                    "metadata": {},
                    "output_type": "execute_result"
                }
            ],
            "source": ""
        },
        {
            "cell_type": "code",
            "execution_count": 69,
            "metadata": {},
            "outputs": [
                {
                    "data": {
                        "text/html": "<div>\n<style scoped>\n    .dataframe tbody tr th:only-of-type {\n        vertical-align: middle;\n    }\n\n    .dataframe tbody tr th {\n        vertical-align: top;\n    }\n\n    .dataframe thead th {\n        text-align: right;\n    }\n</style>\n<table border=\"1\" class=\"dataframe\">\n  <thead>\n    <tr style=\"text-align: right;\">\n      <th></th>\n      <th>post</th>\n      <th>Neighborhood</th>\n    </tr>\n  </thead>\n  <tbody>\n    <tr>\n      <th>0</th>\n      <td>M3A</td>\n      <td>Parkwoods</td>\n    </tr>\n    <tr>\n      <th>1</th>\n      <td>M4A</td>\n      <td>Victoria Village</td>\n    </tr>\n    <tr>\n      <th>2</th>\n      <td>M5A</td>\n      <td>Regent Park</td>\n    </tr>\n    <tr>\n      <th>3</th>\n      <td>M5A</td>\n      <td>Harbourfront</td>\n    </tr>\n    <tr>\n      <th>4</th>\n      <td>M6A</td>\n      <td>Lawrence Manor</td>\n    </tr>\n  </tbody>\n</table>\n</div>",
                        "text/plain": "  post      Neighborhood\n0  M3A         Parkwoods\n1  M4A  Victoria Village\n2  M5A      Regent Park \n3  M5A      Harbourfront\n4  M6A   Lawrence Manor "
                    },
                    "execution_count": 69,
                    "metadata": {},
                    "output_type": "execute_result"
                }
            ],
            "source": "# Step 1\n# Creating a new dataframe from the series with postalcode as the index\nnew_df = pd.DataFrame(split1.Neighborhood.str.split('/').tolist(), index=split1.post).stack()\nnew_df = new_df.reset_index([0, 'post'])\nnew_df.columns = ['post', 'Neighborhood']\nnew_df.head()"
        },
        {
            "cell_type": "code",
            "execution_count": 33,
            "metadata": {},
            "outputs": [
                {
                    "data": {
                        "text/html": "<div>\n<style scoped>\n    .dataframe tbody tr th:only-of-type {\n        vertical-align: middle;\n    }\n\n    .dataframe tbody tr th {\n        vertical-align: top;\n    }\n\n    .dataframe thead th {\n        text-align: right;\n    }\n</style>\n<table border=\"1\" class=\"dataframe\">\n  <thead>\n    <tr style=\"text-align: right;\">\n      <th></th>\n      <th>PC</th>\n      <th>Latitude</th>\n      <th>Longitude</th>\n    </tr>\n  </thead>\n  <tbody>\n    <tr>\n      <th>0</th>\n      <td>M1B</td>\n      <td>43.806686</td>\n      <td>-79.194353</td>\n    </tr>\n    <tr>\n      <th>1</th>\n      <td>M1C</td>\n      <td>43.784535</td>\n      <td>-79.160497</td>\n    </tr>\n    <tr>\n      <th>2</th>\n      <td>M1E</td>\n      <td>43.763573</td>\n      <td>-79.188711</td>\n    </tr>\n    <tr>\n      <th>3</th>\n      <td>M1G</td>\n      <td>43.770992</td>\n      <td>-79.216917</td>\n    </tr>\n    <tr>\n      <th>4</th>\n      <td>M1H</td>\n      <td>43.773136</td>\n      <td>-79.239476</td>\n    </tr>\n  </tbody>\n</table>\n</div>",
                        "text/plain": "    PC   Latitude  Longitude\n0  M1B  43.806686 -79.194353\n1  M1C  43.784535 -79.160497\n2  M1E  43.763573 -79.188711\n3  M1G  43.770992 -79.216917\n4  M1H  43.773136 -79.239476"
                    },
                    "execution_count": 33,
                    "metadata": {},
                    "output_type": "execute_result"
                }
            ],
            "source": "ll = pd.read_csv('https://cocl.us/Geospatial_data')\nll.columns =['PC', 'Latitude','Longitude'] \nll.head()"
        },
        {
            "cell_type": "code",
            "execution_count": 75,
            "metadata": {},
            "outputs": [
                {
                    "data": {
                        "text/html": "<div>\n<style scoped>\n    .dataframe tbody tr th:only-of-type {\n        vertical-align: middle;\n    }\n\n    .dataframe tbody tr th {\n        vertical-align: top;\n    }\n\n    .dataframe thead th {\n        text-align: right;\n    }\n</style>\n<table border=\"1\" class=\"dataframe\">\n  <thead>\n    <tr style=\"text-align: right;\">\n      <th></th>\n      <th>Post</th>\n      <th>Neighborhood</th>\n      <th>Latitude</th>\n      <th>Longitude</th>\n    </tr>\n  </thead>\n  <tbody>\n    <tr>\n      <th>0</th>\n      <td>M3A</td>\n      <td>Parkwoods</td>\n      <td>43.753259</td>\n      <td>-79.329656</td>\n    </tr>\n    <tr>\n      <th>1</th>\n      <td>M4A</td>\n      <td>Victoria Village</td>\n      <td>43.725882</td>\n      <td>-79.315572</td>\n    </tr>\n    <tr>\n      <th>2</th>\n      <td>M5A</td>\n      <td>Regent Park</td>\n      <td>43.654260</td>\n      <td>-79.360636</td>\n    </tr>\n    <tr>\n      <th>3</th>\n      <td>M5A</td>\n      <td>Harbourfront</td>\n      <td>43.654260</td>\n      <td>-79.360636</td>\n    </tr>\n    <tr>\n      <th>4</th>\n      <td>M6A</td>\n      <td>Lawrence Manor</td>\n      <td>43.718518</td>\n      <td>-79.464763</td>\n    </tr>\n  </tbody>\n</table>\n</div>",
                        "text/plain": "  Post      Neighborhood   Latitude  Longitude\n0  M3A         Parkwoods  43.753259 -79.329656\n1  M4A  Victoria Village  43.725882 -79.315572\n2  M5A      Regent Park   43.654260 -79.360636\n3  M5A      Harbourfront  43.654260 -79.360636\n4  M6A   Lawrence Manor   43.718518 -79.464763"
                    },
                    "execution_count": 75,
                    "metadata": {},
                    "output_type": "execute_result"
                }
            ],
            "source": "split=new_df.join(ll.set_index('PC'), on='post')\nsplit.columns=['Post', 'Neighborhood', 'Latitude', 'Longitude'] \nsplit.head()"
        },
        {
            "cell_type": "code",
            "execution_count": 77,
            "metadata": {},
            "outputs": [
                {
                    "data": {
                        "text/html": "<div>\n<style scoped>\n    .dataframe tbody tr th:only-of-type {\n        vertical-align: middle;\n    }\n\n    .dataframe tbody tr th {\n        vertical-align: top;\n    }\n\n    .dataframe thead th {\n        text-align: right;\n    }\n</style>\n<table border=\"1\" class=\"dataframe\">\n  <thead>\n    <tr style=\"text-align: right;\">\n      <th></th>\n      <th>Postal code</th>\n      <th>Borough</th>\n    </tr>\n  </thead>\n  <tbody>\n    <tr>\n      <th>2</th>\n      <td>M3A</td>\n      <td>North York</td>\n    </tr>\n    <tr>\n      <th>3</th>\n      <td>M4A</td>\n      <td>North York</td>\n    </tr>\n    <tr>\n      <th>4</th>\n      <td>M5A</td>\n      <td>Downtown Toronto</td>\n    </tr>\n    <tr>\n      <th>5</th>\n      <td>M6A</td>\n      <td>North York</td>\n    </tr>\n    <tr>\n      <th>6</th>\n      <td>M7A</td>\n      <td>Downtown Toronto</td>\n    </tr>\n  </tbody>\n</table>\n</div>",
                        "text/plain": "  Postal code           Borough\n2         M3A        North York\n3         M4A        North York\n4         M5A  Downtown Toronto\n5         M6A        North York\n6         M7A  Downtown Toronto"
                    },
                    "execution_count": 77,
                    "metadata": {},
                    "output_type": "execute_result"
                }
            ],
            "source": "b = c_df.drop('Neighborhood',1)\nb.head()"
        },
        {
            "cell_type": "code",
            "execution_count": 138,
            "metadata": {},
            "outputs": [
                {
                    "data": {
                        "text/html": "<div>\n<style scoped>\n    .dataframe tbody tr th:only-of-type {\n        vertical-align: middle;\n    }\n\n    .dataframe tbody tr th {\n        vertical-align: top;\n    }\n\n    .dataframe thead th {\n        text-align: right;\n    }\n</style>\n<table border=\"1\" class=\"dataframe\">\n  <thead>\n    <tr style=\"text-align: right;\">\n      <th></th>\n      <th>Postalcode</th>\n      <th>Neighborhood</th>\n      <th>Latitude</th>\n      <th>Longitude</th>\n      <th>Borough</th>\n    </tr>\n  </thead>\n  <tbody>\n    <tr>\n      <th>49</th>\n      <td>M5H</td>\n      <td>Adelaide</td>\n      <td>43.650571</td>\n      <td>-79.384568</td>\n      <td>Downtown Toronto</td>\n    </tr>\n    <tr>\n      <th>152</th>\n      <td>M1V</td>\n      <td>Agincourt North</td>\n      <td>43.815252</td>\n      <td>-79.284577</td>\n      <td>Scarborough</td>\n    </tr>\n    <tr>\n      <th>177</th>\n      <td>M9V</td>\n      <td>Albion Gardens</td>\n      <td>43.739416</td>\n      <td>-79.588437</td>\n      <td>Etobicoke</td>\n    </tr>\n    <tr>\n      <th>164</th>\n      <td>M5V</td>\n      <td>Bathurst\\n Quay</td>\n      <td>43.628947</td>\n      <td>-79.394420</td>\n      <td>Downtown Toronto</td>\n    </tr>\n    <tr>\n      <th>175</th>\n      <td>M9V</td>\n      <td>Beaumond Heights</td>\n      <td>43.739416</td>\n      <td>-79.588437</td>\n      <td>Etobicoke</td>\n    </tr>\n  </tbody>\n</table>\n</div>",
                        "text/plain": "    Postalcode        Neighborhood   Latitude  Longitude           Borough\n49         M5H           Adelaide   43.650571 -79.384568  Downtown Toronto\n152        M1V    Agincourt North   43.815252 -79.284577       Scarborough\n177        M9V      Albion Gardens  43.739416 -79.588437         Etobicoke\n164        M5V    Bathurst\\n Quay   43.628947 -79.394420  Downtown Toronto\n175        M9V   Beaumond Heights   43.739416 -79.588437         Etobicoke"
                    },
                    "execution_count": 138,
                    "metadata": {},
                    "output_type": "execute_result"
                }
            ],
            "source": "final = split.join(b.set_index('Postal code'),on='Post')\nfinal.columns=['Postalcode', 'Neighborhood', 'Latitude', 'Longitude','Borough'] \nfinal.sort_values(by=['Neighborhood'], inplace=True)\nfinal.head()"
        },
        {
            "cell_type": "code",
            "execution_count": 27,
            "metadata": {},
            "outputs": [
                {
                    "data": {
                        "text/plain": "{'meta': {'code': 200, 'requestId': '5e972f37949393001beec221'},\n 'response': {'suggestedFilters': {'header': 'Tap to show:',\n   'filters': [{'name': 'Open now', 'key': 'openNow'}]},\n  'headerLocation': 'St. Lawrence',\n  'headerFullLocation': 'St. Lawrence, Toronto',\n  'headerLocationGranularity': 'neighborhood',\n  'query': 'hotel',\n  'totalResults': 17,\n  'suggestedBounds': {'ne': {'lat': 43.6559940045, 'lng': -79.36921028605637},\n   'sw': {'lat': 43.6469939955, 'lng': -79.38162571394362}},\n  'groups': [{'type': 'Recommended Places',\n    'name': 'recommended',\n    'items': [{'reasons': {'count': 0,\n       'items': [{'summary': 'This spot is popular',\n         'type': 'general',\n         'reasonName': 'globalInteractionReason'}]},\n      'venue': {'id': '4adf7d0bf964a520127b21e3',\n       'name': 'The Omni King Edward Hotel',\n       'location': {'address': '37 King Street East',\n        'crossStreet': 'bwtn Victoria St. and Toronto St.',\n        'lat': 43.64919051601911,\n        'lng': -79.37600612640387,\n        'labeledLatLngs': [{'label': 'display',\n          'lat': 43.64919051601911,\n          'lng': -79.37600612640387}],\n        'distance': 260,\n        'postalCode': 'M5C 1E9',\n        'cc': 'CA',\n        'city': 'Toronto',\n        'state': 'ON',\n        'country': 'Canada',\n        'formattedAddress': ['37 King Street East (bwtn Victoria St. and Toronto St.)',\n         'Toronto ON M5C 1E9',\n         'Canada']},\n       'categories': [{'id': '4bf58dd8d48988d1fa931735',\n         'name': 'Hotel',\n         'pluralName': 'Hotels',\n         'shortName': 'Hotel',\n         'icon': {'prefix': 'https://ss3.4sqi.net/img/categories_v2/travel/hotel_',\n          'suffix': '.png'},\n         'primary': True}],\n       'photos': {'count': 0, 'groups': []},\n       'venuePage': {'id': '51136538'}},\n      'referralId': 'e-0-4adf7d0bf964a520127b21e3-0'},\n     {'reasons': {'count': 0,\n       'items': [{'summary': 'This spot is popular',\n         'type': 'general',\n         'reasonName': 'globalInteractionReason'}]},\n      'venue': {'id': '4b3d49e6f964a520ad9125e3',\n       'name': 'Cambridge Suites Toronto',\n       'location': {'address': '15 Richmond ST E',\n        'lat': 43.65183649475983,\n        'lng': -79.37810738045548,\n        'labeledLatLngs': [{'label': 'display',\n          'lat': 43.65183649475983,\n          'lng': -79.37810738045548}],\n        'distance': 219,\n        'postalCode': 'M5C 1N2',\n        'cc': 'CA',\n        'city': 'Toronto',\n        'state': 'ON',\n        'country': 'Canada',\n        'formattedAddress': ['15 Richmond ST E',\n         'Toronto ON M5C 1N2',\n         'Canada']},\n       'categories': [{'id': '4bf58dd8d48988d1fa931735',\n         'name': 'Hotel',\n         'pluralName': 'Hotels',\n         'shortName': 'Hotel',\n         'icon': {'prefix': 'https://ss3.4sqi.net/img/categories_v2/travel/hotel_',\n          'suffix': '.png'},\n         'primary': True}],\n       'photos': {'count': 0, 'groups': []},\n       'venuePage': {'id': '35491686'}},\n      'referralId': 'e-0-4b3d49e6f964a520ad9125e3-1'},\n     {'reasons': {'count': 0,\n       'items': [{'summary': 'This spot is popular',\n         'type': 'general',\n         'reasonName': 'globalInteractionReason'}]},\n      'venue': {'id': '4ad4c05cf964a520bbf520e3',\n       'name': 'Cosmopolitan Toronto Centre Hotel & Spa',\n       'location': {'address': '8 Colborne St',\n        'crossStreet': 'at Yonge St',\n        'lat': 43.64906432957466,\n        'lng': -79.37759759701125,\n        'labeledLatLngs': [{'label': 'display',\n          'lat': 43.64906432957466,\n          'lng': -79.37759759701125}],\n        'distance': 322,\n        'postalCode': 'M5E 1E1',\n        'cc': 'CA',\n        'city': 'Toronto',\n        'state': 'ON',\n        'country': 'Canada',\n        'formattedAddress': ['8 Colborne St (at Yonge St)',\n         'Toronto ON M5E 1E1',\n         'Canada']},\n       'categories': [{'id': '4bf58dd8d48988d1fa931735',\n         'name': 'Hotel',\n         'pluralName': 'Hotels',\n         'shortName': 'Hotel',\n         'icon': {'prefix': 'https://ss3.4sqi.net/img/categories_v2/travel/hotel_',\n          'suffix': '.png'},\n         'primary': True}],\n       'photos': {'count': 0, 'groups': []}},\n      'referralId': 'e-0-4ad4c05cf964a520bbf520e3-2'},\n     {'reasons': {'count': 0,\n       'items': [{'summary': 'This spot is popular',\n         'type': 'general',\n         'reasonName': 'globalInteractionReason'}]},\n      'venue': {'id': '4b4e764af964a5209cee26e3',\n       'name': 'HI-Toronto Hostel',\n       'location': {'address': '76 Church St',\n        'crossStreet': 'King Subway Station',\n        'lat': 43.650623213878255,\n        'lng': -79.37519039641123,\n        'labeledLatLngs': [{'label': 'display',\n          'lat': 43.650623213878255,\n          'lng': -79.37519039641123}],\n        'distance': 98,\n        'postalCode': 'M5C 2G1',\n        'cc': 'CA',\n        'city': 'Toronto',\n        'state': 'ON',\n        'country': 'Canada',\n        'formattedAddress': ['76 Church St (King Subway Station)',\n         'Toronto ON M5C 2G1',\n         'Canada']},\n       'categories': [{'id': '4bf58dd8d48988d1ee931735',\n         'name': 'Hostel',\n         'pluralName': 'Hostels',\n         'shortName': 'Hostel',\n         'icon': {'prefix': 'https://ss3.4sqi.net/img/categories_v2/travel/hostel_',\n          'suffix': '.png'},\n         'primary': True}],\n       'photos': {'count': 0, 'groups': []},\n       'venuePage': {'id': '33098899'}},\n      'referralId': 'e-0-4b4e764af964a5209cee26e3-3'},\n     {'reasons': {'count': 0,\n       'items': [{'summary': 'This spot is popular',\n         'type': 'general',\n         'reasonName': 'globalInteractionReason'}]},\n      'venue': {'id': '4af96fbbf964a520c01122e3',\n       'name': 'One King West Hotel & Residence',\n       'location': {'address': '1 King St W',\n        'crossStreet': 'at Yonge St.',\n        'lat': 43.6491395,\n        'lng': -79.3778763,\n        'labeledLatLngs': [{'label': 'display',\n          'lat': 43.6491395,\n          'lng': -79.3778763}],\n        'distance': 328,\n        'postalCode': 'M5H 1A1',\n        'cc': 'CA',\n        'city': 'Toronto',\n        'state': 'ON',\n        'country': 'Canada',\n        'formattedAddress': ['1 King St W (at Yonge St.)',\n         'Toronto ON M5H 1A1',\n         'Canada']},\n       'categories': [{'id': '4bf58dd8d48988d1fa931735',\n         'name': 'Hotel',\n         'pluralName': 'Hotels',\n         'shortName': 'Hotel',\n         'icon': {'prefix': 'https://ss3.4sqi.net/img/categories_v2/travel/hotel_',\n          'suffix': '.png'},\n         'primary': True}],\n       'photos': {'count': 0, 'groups': []}},\n      'referralId': 'e-0-4af96fbbf964a520c01122e3-4'}]}]}}"
                    },
                    "execution_count": 27,
                    "metadata": {},
                    "output_type": "execute_result"
                }
            ],
            "source": "# get top 5 hotels around neighborhood St. James Town in Downtown Toronto\n\nLIMIT = 5\nradius = 500\nurl = 'https://api.foursquare.com/v2/venues/explore?client_id={}&client_secret={}&ll={},{}&v={}&radius={}&limit={}&query=hotel'.format(CLIENT_ID, CLIENT_SECRET, 43.651494, -79.375418, VERSION, radius, LIMIT)\n\nhotels = requests.get(url).json()\nhotels"
        },
        {
            "cell_type": "code",
            "execution_count": 28,
            "metadata": {},
            "outputs": [],
            "source": "def get_category_type(row):\n    try:\n        categories_list = row['categories']\n    except:\n        categories_list = row['venue.categories']\n        \n    if len(categories_list) == 0:\n        return None\n    else:\n        return categories_list[0]['name']"
        },
        {
            "cell_type": "code",
            "execution_count": 29,
            "metadata": {},
            "outputs": [
                {
                    "data": {
                        "text/html": "<div>\n<style scoped>\n    .dataframe tbody tr th:only-of-type {\n        vertical-align: middle;\n    }\n\n    .dataframe tbody tr th {\n        vertical-align: top;\n    }\n\n    .dataframe thead th {\n        text-align: right;\n    }\n</style>\n<table border=\"1\" class=\"dataframe\">\n  <thead>\n    <tr style=\"text-align: right;\">\n      <th></th>\n      <th>name</th>\n      <th>categories</th>\n      <th>lat</th>\n      <th>lng</th>\n    </tr>\n  </thead>\n  <tbody>\n    <tr>\n      <th>0</th>\n      <td>The Omni King Edward Hotel</td>\n      <td>Hotel</td>\n      <td>43.649191</td>\n      <td>-79.376006</td>\n    </tr>\n    <tr>\n      <th>1</th>\n      <td>Cambridge Suites Toronto</td>\n      <td>Hotel</td>\n      <td>43.651836</td>\n      <td>-79.378107</td>\n    </tr>\n    <tr>\n      <th>2</th>\n      <td>Cosmopolitan Toronto Centre Hotel &amp; Spa</td>\n      <td>Hotel</td>\n      <td>43.649064</td>\n      <td>-79.377598</td>\n    </tr>\n    <tr>\n      <th>3</th>\n      <td>HI-Toronto Hostel</td>\n      <td>Hostel</td>\n      <td>43.650623</td>\n      <td>-79.375190</td>\n    </tr>\n    <tr>\n      <th>4</th>\n      <td>One King West Hotel &amp; Residence</td>\n      <td>Hotel</td>\n      <td>43.649139</td>\n      <td>-79.377876</td>\n    </tr>\n  </tbody>\n</table>\n</div>",
                        "text/plain": "                                      name categories        lat        lng\n0               The Omni King Edward Hotel      Hotel  43.649191 -79.376006\n1                 Cambridge Suites Toronto      Hotel  43.651836 -79.378107\n2  Cosmopolitan Toronto Centre Hotel & Spa      Hotel  43.649064 -79.377598\n3                        HI-Toronto Hostel     Hostel  43.650623 -79.375190\n4          One King West Hotel & Residence      Hotel  43.649139 -79.377876"
                    },
                    "execution_count": 29,
                    "metadata": {},
                    "output_type": "execute_result"
                }
            ],
            "source": "import json # library of JSON file\nfrom pandas.io.json import json_normalize # tranform JSON file\n\nhotels1 = hotels['response']['groups'][0]['items']  \nnearbyhotels = json_normalize(hotels1) # flatten JSON\n\n# filter columns\nfiltered_columns = ['venue.name', 'venue.categories', 'venue.location.lat', 'venue.location.lng']\nnearbyhotels =nearbyhotels.loc[:, filtered_columns]\n\n# clean category\nnearbyhotels['venue.categories'] = nearbyhotels.apply(get_category_type, axis=1)\n\n# clean columns\nnearbyhotels.columns = [col.split(\".\")[-1] for col in nearbyhotels.columns]\n\nnearbyhotels.head()"
        },
        {
            "cell_type": "code",
            "execution_count": 145,
            "metadata": {},
            "outputs": [
                {
                    "name": "stdout",
                    "output_type": "stream",
                    "text": " Adelaide \n Agincourt North \n Albion Gardens\n Bathurst\n Quay \n Beaumond Heights \n Bloordale Gardens \n Cabbagetown\n Chinatown \n Clairlea \n Cliffcrest \n Cliffside West\n Cloverdale\n Deer Park\n Design Exchange\n Dovercourt Village\n Downsview North\n East Birchmount Park\n Emery\n Exhibition Place\n Forest Hill SE \n Grange Park\n Harbord\n Harbourfront\n Harbourfront West \n Henry Farm \n Highland Creek\n Humber Bay \n Humber Bay Shores\n Humbergate \n Ionview \n Island airport\n Islington \n Jamestown \n Keelsdale and Silverthorn\n King\n King and Spadina \n King's Mill Park \n Kingsway Park South East\n Kingsway Park South West \n L'Amoreaux East\n L'Amoreaux West\n Lawrence Heights\n Lawrence Manor East\n Long Branch\n Maple Leaf Park \n Markland Wood\n Martin Grove \n Martin Grove Gardens \n Maryvale\n Mimico NE \n Mimico South \n Montgomery Road  \n Morningside \n Mount Dennis \n Mount Olive \n Newtonbrook\n North Midtown \n Oakridge\n Old Burnhamthorpe \n Old Mill North\n Ontario Provincial Government\n Oriole\n Parkdale Village \n Port Union \n Princess Gardens \n Railway Lands \n Rathnelly \n Richview Gardens\n Riverdale\n Roncesvalles\n Rouge\n Royal York South East \n Royal York South West\n Scarborough Town Centre\n Scarborough Village West\n Silver Hills\n Silverstone \n South Hill \n South Niagara \n South of Bloor \n St. Phillips \n Steeles East \n Sullivan\n Summerhill East\n Sunnylea \n Swansea\n Tam O'Shanter \n The Beaches West\n The Junction North\n The Junction South\n The Queensway East \n The Queensway West \n Thistletown \n Toronto Islands\n Trinity\n Underground city\n Union Station \n Upwood Park\n Victoria Hotel\n West Hill\n Wexford Heights \n Wilson Heights \n Woodbine Gardens\n York University\n Yorkville\nAgincourt\nAlderwood \nBathurst Manor \nBayview Village\nBedford Park \nBerczy Park\nBirch Cliff \nBrockton \nBusiness reply mail Processing CentrE\nCN Tower \nCaledonia-Fairbanks\nCanada Post Gateway Processing Centre\nCedarbrae\nCentral Bay Street\nChristie\nChurch and Wellesley\nClarks Corners \nCliffside \nCommerce Court \nDavisville\nDavisville North\nDel Ray \nDon Mills\nDon Mills\nDorset Park \nDownsview\nDownsview\nDownsview\nDownsview\nDufferin \nEast Toronto\nEringate \nFairview \nFirst Canadian Place \nForest Hill North & West\nGarden District, Ryerson\nGlencairn\nGolden Mile \nGuildwood \nHarbourfront East \nHigh Park \nHillcrest Village\nHumber Summit\nHumberlea \nHumewood-Cedarvale\nIndia Bazaar \nIslington Avenue\nKennedy Park \nKensington Market \nKingsview Village \nLawrence Manor \nLawrence Park\nLeaside\nLittle Portugal \nMalvern \nMilliken \nMimico NW \nMoore Park \nNew Toronto \nNorth Park \nNorth Toronto West\nNorthwest\nNorthwood Park \nOld Mill South \nParkdale \nParkview Hill \nParkwoods\nQueen's Park \nRegent Park \nRichmond \nRosedale\nRoselawn\nRouge Hill \nRunnymede \nRunnymede \nScarborough Village\nSouth Steeles \nSt. James Town\nSt. James Town \nSteeles West \nStn A PO Boxes\nStudio District\nSummerhill West \nThe Annex \nThe Beaches\nThe Danforth West \nThe Kingsway \nThorncliffe Park\nToronto Dominion Centre \nUniversity of Toronto \nUpper Rouge\nVictoria Village\nWest Deane Park \nWestmount\nWeston\nWexford \nWillowdale\nWillowdale\nWillowdale \nWoburn\nWoodbine Heights\nYork Mills \nYork Mills West\n"
                },
                {
                    "data": {
                        "text/html": "<div>\n<style scoped>\n    .dataframe tbody tr th:only-of-type {\n        vertical-align: middle;\n    }\n\n    .dataframe tbody tr th {\n        vertical-align: top;\n    }\n\n    .dataframe thead th {\n        text-align: right;\n    }\n</style>\n<table border=\"1\" class=\"dataframe\">\n  <thead>\n    <tr style=\"text-align: right;\">\n      <th></th>\n      <th>Neighborhood</th>\n      <th>Neighborhood Latitude</th>\n      <th>Neighborhood Longitude</th>\n      <th>Venue</th>\n      <th>Venue Latitude</th>\n      <th>Venue Longitude</th>\n      <th>Venue Category</th>\n    </tr>\n  </thead>\n  <tbody>\n    <tr>\n      <th>0</th>\n      <td>Adelaide</td>\n      <td>43.650571</td>\n      <td>-79.384568</td>\n      <td>Shangri-La Toronto</td>\n      <td>43.649129</td>\n      <td>-79.386557</td>\n      <td>Hotel</td>\n    </tr>\n    <tr>\n      <th>1</th>\n      <td>Adelaide</td>\n      <td>43.650571</td>\n      <td>-79.384568</td>\n      <td>Hilton</td>\n      <td>43.649946</td>\n      <td>-79.385479</td>\n      <td>Hotel</td>\n    </tr>\n    <tr>\n      <th>2</th>\n      <td>Adelaide</td>\n      <td>43.650571</td>\n      <td>-79.384568</td>\n      <td>Sheraton Centre Toronto Hotel</td>\n      <td>43.650594</td>\n      <td>-79.384530</td>\n      <td>Hotel</td>\n    </tr>\n    <tr>\n      <th>3</th>\n      <td>Adelaide</td>\n      <td>43.650571</td>\n      <td>-79.384568</td>\n      <td>The Rex Hotel Jazz &amp; Blues Bar</td>\n      <td>43.650505</td>\n      <td>-79.388577</td>\n      <td>Jazz Club</td>\n    </tr>\n    <tr>\n      <th>4</th>\n      <td>Adelaide</td>\n      <td>43.650571</td>\n      <td>-79.384568</td>\n      <td>DoubleTree by Hilton</td>\n      <td>43.654608</td>\n      <td>-79.385942</td>\n      <td>Hotel</td>\n    </tr>\n  </tbody>\n</table>\n</div>",
                        "text/plain": "  Neighborhood  Neighborhood Latitude  Neighborhood Longitude  \\\n0    Adelaide               43.650571              -79.384568   \n1    Adelaide               43.650571              -79.384568   \n2    Adelaide               43.650571              -79.384568   \n3    Adelaide               43.650571              -79.384568   \n4    Adelaide               43.650571              -79.384568   \n\n                            Venue  Venue Latitude  Venue Longitude  \\\n0              Shangri-La Toronto       43.649129       -79.386557   \n1                          Hilton       43.649946       -79.385479   \n2   Sheraton Centre Toronto Hotel       43.650594       -79.384530   \n3  The Rex Hotel Jazz & Blues Bar       43.650505       -79.388577   \n4            DoubleTree by Hilton       43.654608       -79.385942   \n\n  Venue Category  \n0          Hotel  \n1          Hotel  \n2          Hotel  \n3      Jazz Club  \n4          Hotel  "
                    },
                    "execution_count": 145,
                    "metadata": {},
                    "output_type": "execute_result"
                }
            ],
            "source": "#get hotels list in toronto\ndef getNearbyVenues(names, latitudes, longitudes, radius=500):\n    \n    venues_list=[]\n    for name, lat, lng in zip(names, latitudes, longitudes):\n        print(name)\n            \n        # create the API request URL\n        url = 'https://api.foursquare.com/v2/venues/explore?&client_id={}&client_secret={}&v={}&ll={},{}&radius={}&limit={}&query=hotel'.format(\n            CLIENT_ID, \n            CLIENT_SECRET, \n            VERSION, \n            lat, \n            lng, \n            radius, \n            LIMIT)\n            \n        # make the GET request\n        results = requests.get(url).json()[\"response\"]['groups'][0]['items']\n        \n        # return only relevant information for each nearby venue\n        venues_list.append([(\n            name, \n            lat, \n            lng, \n            v['venue']['name'], \n            v['venue']['location']['lat'], \n            v['venue']['location']['lng'],  \n            v['venue']['categories'][0]['name']) for v in results])\n\n    nearby_venues = pd.DataFrame([item for venue_list in venues_list for item in venue_list])\n    nearby_venues.columns = ['Neighborhood', \n                  'Neighborhood Latitude', \n                  'Neighborhood Longitude', \n                  'Venue', \n                  'Venue Latitude', \n                  'Venue Longitude', \n                  'Venue Category']\n    \n    return(nearby_venues)\n\ntoronto_hotels = getNearbyVenues(names=final['Neighborhood'],\n                                   latitudes=final['Latitude'],\n                                   longitudes=final['Longitude'])\ntoronto_hotels.head()"
        },
        {
            "cell_type": "code",
            "execution_count": 149,
            "metadata": {},
            "outputs": [
                {
                    "data": {
                        "text/html": "<div>\n<style scoped>\n    .dataframe tbody tr th:only-of-type {\n        vertical-align: middle;\n    }\n\n    .dataframe tbody tr th {\n        vertical-align: top;\n    }\n\n    .dataframe thead th {\n        text-align: right;\n    }\n</style>\n<table border=\"1\" class=\"dataframe\">\n  <thead>\n    <tr style=\"text-align: right;\">\n      <th></th>\n      <th>Neighborhood Latitude</th>\n      <th>Neighborhood Longitude</th>\n      <th>Venue</th>\n      <th>Venue Latitude</th>\n      <th>Venue Longitude</th>\n      <th>Venue Category</th>\n    </tr>\n    <tr>\n      <th>Neighborhood</th>\n      <th></th>\n      <th></th>\n      <th></th>\n      <th></th>\n      <th></th>\n      <th></th>\n    </tr>\n  </thead>\n  <tbody>\n    <tr>\n      <th>Adelaide</th>\n      <td>5</td>\n      <td>5</td>\n      <td>5</td>\n      <td>5</td>\n      <td>5</td>\n      <td>5</td>\n    </tr>\n    <tr>\n      <th>Chinatown</th>\n      <td>5</td>\n      <td>5</td>\n      <td>5</td>\n      <td>5</td>\n      <td>5</td>\n      <td>5</td>\n    </tr>\n    <tr>\n      <th>Design Exchange</th>\n      <td>5</td>\n      <td>5</td>\n      <td>5</td>\n      <td>5</td>\n      <td>5</td>\n      <td>5</td>\n    </tr>\n    <tr>\n      <th>Grange Park</th>\n      <td>5</td>\n      <td>5</td>\n      <td>5</td>\n      <td>5</td>\n      <td>5</td>\n      <td>5</td>\n    </tr>\n    <tr>\n      <th>Harbourfront</th>\n      <td>2</td>\n      <td>2</td>\n      <td>2</td>\n      <td>2</td>\n      <td>2</td>\n      <td>2</td>\n    </tr>\n  </tbody>\n</table>\n</div>",
                        "text/plain": "                  Neighborhood Latitude  Neighborhood Longitude  Venue  \\\nNeighborhood                                                             \n Adelaide                             5                       5      5   \n Chinatown                            5                       5      5   \n Design Exchange                      5                       5      5   \n Grange Park                          5                       5      5   \n Harbourfront                         2                       2      2   \n\n                  Venue Latitude  Venue Longitude  Venue Category  \nNeighborhood                                                       \n Adelaide                      5                5               5  \n Chinatown                     5                5               5  \n Design Exchange               5                5               5  \n Grange Park                   5                5               5  \n Harbourfront                  2                2               2  "
                    },
                    "execution_count": 149,
                    "metadata": {},
                    "output_type": "execute_result"
                }
            ],
            "source": "counthotel= pd.DataFrame(toronto_hotels.groupby('Neighborhood').count())\ncounthotel.head()"
        },
        {
            "cell_type": "code",
            "execution_count": 150,
            "metadata": {},
            "outputs": [
                {
                    "data": {
                        "text/html": "<div>\n<style scoped>\n    .dataframe tbody tr th:only-of-type {\n        vertical-align: middle;\n    }\n\n    .dataframe tbody tr th {\n        vertical-align: top;\n    }\n\n    .dataframe thead th {\n        text-align: right;\n    }\n</style>\n<table border=\"1\" class=\"dataframe\">\n  <thead>\n    <tr style=\"text-align: right;\">\n      <th></th>\n      <th>Neighborhood Latitude</th>\n      <th>Neighborhood Longitude</th>\n      <th>Venue</th>\n      <th>Venue Latitude</th>\n      <th>Venue Longitude</th>\n      <th>Venue Category</th>\n    </tr>\n    <tr>\n      <th>Neighborhood</th>\n      <th></th>\n      <th></th>\n      <th></th>\n      <th></th>\n      <th></th>\n      <th></th>\n    </tr>\n  </thead>\n  <tbody>\n    <tr>\n      <th>Harbourfront</th>\n      <td>2</td>\n      <td>2</td>\n      <td>2</td>\n      <td>2</td>\n      <td>2</td>\n      <td>2</td>\n    </tr>\n    <tr>\n      <th>Ontario Provincial Government</th>\n      <td>2</td>\n      <td>2</td>\n      <td>2</td>\n      <td>2</td>\n      <td>2</td>\n      <td>2</td>\n    </tr>\n    <tr>\n      <th>The Beaches West</th>\n      <td>1</td>\n      <td>1</td>\n      <td>1</td>\n      <td>1</td>\n      <td>1</td>\n      <td>1</td>\n    </tr>\n    <tr>\n      <th>Berczy Park</th>\n      <td>4</td>\n      <td>4</td>\n      <td>4</td>\n      <td>4</td>\n      <td>4</td>\n      <td>4</td>\n    </tr>\n    <tr>\n      <th>Canada Post Gateway Processing Centre</th>\n      <td>2</td>\n      <td>2</td>\n      <td>2</td>\n      <td>2</td>\n      <td>2</td>\n      <td>2</td>\n    </tr>\n    <tr>\n      <th>Davisville North</th>\n      <td>2</td>\n      <td>2</td>\n      <td>2</td>\n      <td>2</td>\n      <td>2</td>\n      <td>2</td>\n    </tr>\n    <tr>\n      <th>India Bazaar</th>\n      <td>1</td>\n      <td>1</td>\n      <td>1</td>\n      <td>1</td>\n      <td>1</td>\n      <td>1</td>\n    </tr>\n    <tr>\n      <th>Queen's Park</th>\n      <td>2</td>\n      <td>2</td>\n      <td>2</td>\n      <td>2</td>\n      <td>2</td>\n      <td>2</td>\n    </tr>\n    <tr>\n      <th>Regent Park</th>\n      <td>2</td>\n      <td>2</td>\n      <td>2</td>\n      <td>2</td>\n      <td>2</td>\n      <td>2</td>\n    </tr>\n    <tr>\n      <th>Willowdale</th>\n      <td>1</td>\n      <td>1</td>\n      <td>1</td>\n      <td>1</td>\n      <td>1</td>\n      <td>1</td>\n    </tr>\n  </tbody>\n</table>\n</div>",
                        "text/plain": "                                       Neighborhood Latitude  \\\nNeighborhood                                                   \n Harbourfront                                              2   \n Ontario Provincial Government                             2   \n The Beaches West                                          1   \nBerczy Park                                                4   \nCanada Post Gateway Processing Centre                      2   \nDavisville North                                           2   \nIndia Bazaar                                               1   \nQueen's Park                                               2   \nRegent Park                                                2   \nWillowdale                                                 1   \n\n                                       Neighborhood Longitude  Venue  \\\nNeighborhood                                                           \n Harbourfront                                               2      2   \n Ontario Provincial Government                              2      2   \n The Beaches West                                           1      1   \nBerczy Park                                                 4      4   \nCanada Post Gateway Processing Centre                       2      2   \nDavisville North                                            2      2   \nIndia Bazaar                                                1      1   \nQueen's Park                                                2      2   \nRegent Park                                                 2      2   \nWillowdale                                                  1      1   \n\n                                       Venue Latitude  Venue Longitude  \\\nNeighborhood                                                             \n Harbourfront                                       2                2   \n Ontario Provincial Government                      2                2   \n The Beaches West                                   1                1   \nBerczy Park                                         4                4   \nCanada Post Gateway Processing Centre               2                2   \nDavisville North                                    2                2   \nIndia Bazaar                                        1                1   \nQueen's Park                                        2                2   \nRegent Park                                         2                2   \nWillowdale                                          1                1   \n\n                                       Venue Category  \nNeighborhood                                           \n Harbourfront                                       2  \n Ontario Provincial Government                      2  \n The Beaches West                                   1  \nBerczy Park                                         4  \nCanada Post Gateway Processing Centre               2  \nDavisville North                                    2  \nIndia Bazaar                                        1  \nQueen's Park                                        2  \nRegent Park                                         2  \nWillowdale                                          1  "
                    },
                    "execution_count": 150,
                    "metadata": {},
                    "output_type": "execute_result"
                }
            ],
            "source": "potentialneighborhood=counthotel.loc[counthotel['Venue']<5]\npotentialneighborhood"
        },
        {
            "cell_type": "code",
            "execution_count": null,
            "metadata": {},
            "outputs": [],
            "source": "# these neighborhoods are not sufficient in hotel supplies\nenvironment = potentialneighborhood.join(final('Neighborhood'), on='Neighborhood')\nenvironment.columns=['Neighborhood', 'Neighborhood', 'Latitude', 'Longitude'] \nsplit.head()"
        },
        {
            "cell_type": "code",
            "execution_count": 230,
            "metadata": {},
            "outputs": [
                {
                    "data": {
                        "text/html": "<div>\n<style scoped>\n    .dataframe tbody tr th:only-of-type {\n        vertical-align: middle;\n    }\n\n    .dataframe tbody tr th {\n        vertical-align: top;\n    }\n\n    .dataframe thead th {\n        text-align: right;\n    }\n</style>\n<table border=\"1\" class=\"dataframe\">\n  <thead>\n    <tr style=\"text-align: right;\">\n      <th></th>\n      <th>Venue</th>\n    </tr>\n    <tr>\n      <th>Neighborhood</th>\n      <th></th>\n    </tr>\n  </thead>\n  <tbody>\n    <tr>\n      <th>Harbourfront</th>\n      <td>2</td>\n    </tr>\n    <tr>\n      <th>Ontario Provincial Government</th>\n      <td>2</td>\n    </tr>\n    <tr>\n      <th>The Beaches West</th>\n      <td>1</td>\n    </tr>\n    <tr>\n      <th>Berczy Park</th>\n      <td>4</td>\n    </tr>\n    <tr>\n      <th>Canada Post Gateway Processing Centre</th>\n      <td>2</td>\n    </tr>\n  </tbody>\n</table>\n</div>",
                        "text/plain": "                                       Venue\nNeighborhood                                \n Harbourfront                              2\n Ontario Provincial Government             2\n The Beaches West                          1\nBerczy Park                                4\nCanada Post Gateway Processing Centre      2"
                    },
                    "execution_count": 230,
                    "metadata": {},
                    "output_type": "execute_result"
                }
            ],
            "source": "potentials = potentialneighborhood.drop('Neighborhood Latitude',1)\npotentials = potentials.drop ('Neighborhood Longitude',1)\npotentials = potentials.drop ('Venue Latitude',1)\npotentials = potentials.drop ('Venue Longitude',1)\npotentials = potentials.drop ('Venue Category',1)\npotentials.head()"
        },
        {
            "cell_type": "code",
            "execution_count": 177,
            "metadata": {},
            "outputs": [
                {
                    "data": {
                        "text/html": "<div>\n<style scoped>\n    .dataframe tbody tr th:only-of-type {\n        vertical-align: middle;\n    }\n\n    .dataframe tbody tr th {\n        vertical-align: top;\n    }\n\n    .dataframe thead th {\n        text-align: right;\n    }\n</style>\n<table border=\"1\" class=\"dataframe\">\n  <thead>\n    <tr style=\"text-align: right;\">\n      <th></th>\n      <th>Neighborhood</th>\n      <th>Venue</th>\n      <th>Latitude</th>\n      <th>Longitude</th>\n    </tr>\n  </thead>\n  <tbody>\n    <tr>\n      <th>0</th>\n      <td>Harbourfront</td>\n      <td>2</td>\n      <td>43.654260</td>\n      <td>-79.360636</td>\n    </tr>\n    <tr>\n      <th>1</th>\n      <td>Ontario Provincial Government</td>\n      <td>2</td>\n      <td>43.662301</td>\n      <td>-79.389494</td>\n    </tr>\n    <tr>\n      <th>2</th>\n      <td>The Beaches West</td>\n      <td>1</td>\n      <td>43.668999</td>\n      <td>-79.315572</td>\n    </tr>\n    <tr>\n      <th>3</th>\n      <td>Berczy Park</td>\n      <td>4</td>\n      <td>43.644771</td>\n      <td>-79.373306</td>\n    </tr>\n    <tr>\n      <th>4</th>\n      <td>Canada Post Gateway Processing Centre</td>\n      <td>2</td>\n      <td>43.636966</td>\n      <td>-79.615819</td>\n    </tr>\n    <tr>\n      <th>5</th>\n      <td>Davisville North</td>\n      <td>2</td>\n      <td>43.712751</td>\n      <td>-79.390197</td>\n    </tr>\n    <tr>\n      <th>6</th>\n      <td>India Bazaar</td>\n      <td>1</td>\n      <td>43.668999</td>\n      <td>-79.315572</td>\n    </tr>\n    <tr>\n      <th>7</th>\n      <td>Queen's Park</td>\n      <td>2</td>\n      <td>43.662301</td>\n      <td>-79.389494</td>\n    </tr>\n    <tr>\n      <th>8</th>\n      <td>Regent Park</td>\n      <td>2</td>\n      <td>43.654260</td>\n      <td>-79.360636</td>\n    </tr>\n    <tr>\n      <th>9</th>\n      <td>Willowdale</td>\n      <td>1</td>\n      <td>43.770120</td>\n      <td>-79.408493</td>\n    </tr>\n    <tr>\n      <th>10</th>\n      <td>Willowdale</td>\n      <td>1</td>\n      <td>43.782736</td>\n      <td>-79.442259</td>\n    </tr>\n  </tbody>\n</table>\n</div>",
                        "text/plain": "                             Neighborhood  Venue   Latitude  Longitude\n0                            Harbourfront      2  43.654260 -79.360636\n1           Ontario Provincial Government      2  43.662301 -79.389494\n2                        The Beaches West      1  43.668999 -79.315572\n3                             Berczy Park      4  43.644771 -79.373306\n4   Canada Post Gateway Processing Centre      2  43.636966 -79.615819\n5                        Davisville North      2  43.712751 -79.390197\n6                           India Bazaar       1  43.668999 -79.315572\n7                           Queen's Park       2  43.662301 -79.389494\n8                            Regent Park       2  43.654260 -79.360636\n9                              Willowdale      1  43.770120 -79.408493\n10                             Willowdale      1  43.782736 -79.442259"
                    },
                    "execution_count": 177,
                    "metadata": {},
                    "output_type": "execute_result"
                }
            ],
            "source": "ll = final.drop('Postalcode',1)\nll = ll.drop('Borough',1)\narea=potentials.join(ll.set_index('Neighborhood'),on='Neighborhood')\narea.columns=['Venue', 'Latitude', 'Longitude'] \narea.reset_index() # reset the index\n# this is the area with shortage tourism supply and their location"
        },
        {
            "cell_type": "code",
            "execution_count": 191,
            "metadata": {},
            "outputs": [
                {
                    "data": {
                        "text/html": "<div>\n<style scoped>\n    .dataframe tbody tr th:only-of-type {\n        vertical-align: middle;\n    }\n\n    .dataframe tbody tr th {\n        vertical-align: top;\n    }\n\n    .dataframe thead th {\n        text-align: right;\n    }\n</style>\n<table border=\"1\" class=\"dataframe\">\n  <thead>\n    <tr style=\"text-align: right;\">\n      <th></th>\n      <th>Neighborhood</th>\n      <th>Latitude</th>\n      <th>Longitude</th>\n    </tr>\n  </thead>\n  <tbody>\n    <tr>\n      <th>0</th>\n      <td>Harbourfront</td>\n      <td>43.654260</td>\n      <td>-79.360636</td>\n    </tr>\n    <tr>\n      <th>1</th>\n      <td>Ontario Provincial Government</td>\n      <td>43.662301</td>\n      <td>-79.389494</td>\n    </tr>\n    <tr>\n      <th>2</th>\n      <td>The Beaches West</td>\n      <td>43.668999</td>\n      <td>-79.315572</td>\n    </tr>\n    <tr>\n      <th>3</th>\n      <td>Berczy Park</td>\n      <td>43.644771</td>\n      <td>-79.373306</td>\n    </tr>\n    <tr>\n      <th>4</th>\n      <td>Canada Post Gateway Processing Centre</td>\n      <td>43.636966</td>\n      <td>-79.615819</td>\n    </tr>\n  </tbody>\n</table>\n</div>",
                        "text/plain": "                            Neighborhood   Latitude  Longitude\n0                           Harbourfront  43.654260 -79.360636\n1          Ontario Provincial Government  43.662301 -79.389494\n2                       The Beaches West  43.668999 -79.315572\n3                            Berczy Park  43.644771 -79.373306\n4  Canada Post Gateway Processing Centre  43.636966 -79.615819"
                    },
                    "execution_count": 191,
                    "metadata": {},
                    "output_type": "execute_result"
                }
            ],
            "source": "n = area.drop('Venue',1)\nn=n.reset_index()\nn.head()"
        },
        {
            "cell_type": "code",
            "execution_count": 192,
            "metadata": {},
            "outputs": [],
            "source": "neighborhood_latitude = n.loc[0, 'Latitude'] # neighborhood latitude value\nneighborhood_longitude = n.loc[0, 'Longitude'] # neighborhood longitude value"
        },
        {
            "cell_type": "code",
            "execution_count": 201,
            "metadata": {},
            "outputs": [],
            "source": "LIMIT = 10 # limit of number of venues returned by Foursquare API\nradius = 500 # define radius\nurl = 'https://api.foursquare.com/v2/venues/explore?&client_id={}&client_secret={}&v={}&ll={},{}&radius={}&limit={}'.format(\n    CLIENT_ID, \n    CLIENT_SECRET, \n    VERSION, \n    neighborhood_latitude, \n    neighborhood_longitude, \n    radius, \n    LIMIT)\n\n# get the result to a json file\nresults = requests.get(url).json()"
        },
        {
            "cell_type": "code",
            "execution_count": 202,
            "metadata": {},
            "outputs": [],
            "source": "def get_category_type(row):\n    try:\n        categories_list = row['categories']\n    except:\n        categories_list = row['venue.categories']\n        \n    if len(categories_list) == 0:\n        return None\n    else:\n        return categories_list[0]['name']"
        },
        {
            "cell_type": "code",
            "execution_count": 203,
            "metadata": {},
            "outputs": [
                {
                    "data": {
                        "text/html": "<div>\n<style scoped>\n    .dataframe tbody tr th:only-of-type {\n        vertical-align: middle;\n    }\n\n    .dataframe tbody tr th {\n        vertical-align: top;\n    }\n\n    .dataframe thead th {\n        text-align: right;\n    }\n</style>\n<table border=\"1\" class=\"dataframe\">\n  <thead>\n    <tr style=\"text-align: right;\">\n      <th></th>\n      <th>name</th>\n      <th>categories</th>\n      <th>lat</th>\n      <th>lng</th>\n    </tr>\n  </thead>\n  <tbody>\n    <tr>\n      <th>0</th>\n      <td>Roselle Desserts</td>\n      <td>Bakery</td>\n      <td>43.653447</td>\n      <td>-79.362017</td>\n    </tr>\n    <tr>\n      <th>1</th>\n      <td>Tandem Coffee</td>\n      <td>Coffee Shop</td>\n      <td>43.653559</td>\n      <td>-79.361809</td>\n    </tr>\n    <tr>\n      <th>2</th>\n      <td>Cooper Koo Family YMCA</td>\n      <td>Distribution Center</td>\n      <td>43.653249</td>\n      <td>-79.358008</td>\n    </tr>\n    <tr>\n      <th>3</th>\n      <td>Body Blitz Spa East</td>\n      <td>Spa</td>\n      <td>43.654735</td>\n      <td>-79.359874</td>\n    </tr>\n    <tr>\n      <th>4</th>\n      <td>Morning Glory Cafe</td>\n      <td>Breakfast Spot</td>\n      <td>43.653947</td>\n      <td>-79.361149</td>\n    </tr>\n    <tr>\n      <th>5</th>\n      <td>Impact Kitchen</td>\n      <td>Restaurant</td>\n      <td>43.656369</td>\n      <td>-79.356980</td>\n    </tr>\n    <tr>\n      <th>6</th>\n      <td>Corktown Common</td>\n      <td>Park</td>\n      <td>43.655618</td>\n      <td>-79.356211</td>\n    </tr>\n    <tr>\n      <th>7</th>\n      <td>Figs Breakfast &amp; Lunch</td>\n      <td>Breakfast Spot</td>\n      <td>43.655675</td>\n      <td>-79.364503</td>\n    </tr>\n    <tr>\n      <th>8</th>\n      <td>The Distillery Historic District</td>\n      <td>Historic Site</td>\n      <td>43.650244</td>\n      <td>-79.359323</td>\n    </tr>\n    <tr>\n      <th>9</th>\n      <td>Dominion Pub and Kitchen</td>\n      <td>Pub</td>\n      <td>43.656919</td>\n      <td>-79.358967</td>\n    </tr>\n  </tbody>\n</table>\n</div>",
                        "text/plain": "                               name           categories        lat        lng\n0                  Roselle Desserts               Bakery  43.653447 -79.362017\n1                     Tandem Coffee          Coffee Shop  43.653559 -79.361809\n2            Cooper Koo Family YMCA  Distribution Center  43.653249 -79.358008\n3               Body Blitz Spa East                  Spa  43.654735 -79.359874\n4                Morning Glory Cafe       Breakfast Spot  43.653947 -79.361149\n5                    Impact Kitchen           Restaurant  43.656369 -79.356980\n6                   Corktown Common                 Park  43.655618 -79.356211\n7            Figs Breakfast & Lunch       Breakfast Spot  43.655675 -79.364503\n8  The Distillery Historic District        Historic Site  43.650244 -79.359323\n9          Dominion Pub and Kitchen                  Pub  43.656919 -79.358967"
                    },
                    "execution_count": 203,
                    "metadata": {},
                    "output_type": "execute_result"
                }
            ],
            "source": "venues = results['response']['groups'][0]['items']\nnearby_venues = json_normalize(venues) # flatten JSON\n\n# filter columns\nfiltered_columns = ['venue.name', 'venue.categories', 'venue.location.lat', 'venue.location.lng']\nnearby_venues =nearby_venues.loc[:, filtered_columns]\n\n# filter the category for each row\nnearby_venues['venue.categories'] = nearby_venues.apply(get_category_type, axis=1)\n\n# clean columns\nnearby_venues.columns = [col.split(\".\")[-1] for col in nearby_venues.columns]\n\nnearby_venues"
        },
        {
            "cell_type": "code",
            "execution_count": 204,
            "metadata": {},
            "outputs": [],
            "source": "def getNearbyVenues(names, latitudes, longitudes, radius=500):\n    venues_list=[]\n    \n    for name, lat, lng in zip(names, latitudes, longitudes):\n        # print(name)\n            \n        # create the API request URL\n        url = 'https://api.foursquare.com/v2/venues/explore?&client_id={}&client_secret={}&v={}&ll={},{}&radius={}&limit={}'.format(\n            CLIENT_ID, \n            CLIENT_SECRET, \n            VERSION, \n            lat, \n            lng, \n            radius, \n            LIMIT)\n            \n        # make the GET request\n        results = requests.get(url).json()[\"response\"]['groups'][0]['items']\n        \n        # return only relevant information for each nearby venue\n        venues_list.append([(\n            name, \n            lat, \n            lng, \n            v['venue']['name'], \n            v['venue']['location']['lat'], \n            v['venue']['location']['lng'],  \n            v['venue']['categories'][0]['name']) for v in results])\n\n    nearby_venues = pd.DataFrame([item for venue_list in venues_list for item in venue_list])\n    nearby_venues.columns = ['Neighborhood', \n                  'Neighborhood Latitude', \n                  'Neighborhood Longitude', \n                  'Venue', \n                  'Venue Latitude', \n                  'Venue Longitude', \n                  'Venue Category']\n    \n    return(nearby_venues)"
        },
        {
            "cell_type": "code",
            "execution_count": 206,
            "metadata": {},
            "outputs": [
                {
                    "data": {
                        "text/html": "<div>\n<style scoped>\n    .dataframe tbody tr th:only-of-type {\n        vertical-align: middle;\n    }\n\n    .dataframe tbody tr th {\n        vertical-align: top;\n    }\n\n    .dataframe thead th {\n        text-align: right;\n    }\n</style>\n<table border=\"1\" class=\"dataframe\">\n  <thead>\n    <tr style=\"text-align: right;\">\n      <th></th>\n      <th>Neighborhood</th>\n      <th>Neighborhood Latitude</th>\n      <th>Neighborhood Longitude</th>\n      <th>Venue</th>\n      <th>Venue Latitude</th>\n      <th>Venue Longitude</th>\n      <th>Venue Category</th>\n    </tr>\n  </thead>\n  <tbody>\n    <tr>\n      <th>0</th>\n      <td>Harbourfront</td>\n      <td>43.65426</td>\n      <td>-79.360636</td>\n      <td>Roselle Desserts</td>\n      <td>43.653447</td>\n      <td>-79.362017</td>\n      <td>Bakery</td>\n    </tr>\n    <tr>\n      <th>1</th>\n      <td>Harbourfront</td>\n      <td>43.65426</td>\n      <td>-79.360636</td>\n      <td>Tandem Coffee</td>\n      <td>43.653559</td>\n      <td>-79.361809</td>\n      <td>Coffee Shop</td>\n    </tr>\n    <tr>\n      <th>2</th>\n      <td>Harbourfront</td>\n      <td>43.65426</td>\n      <td>-79.360636</td>\n      <td>Cooper Koo Family YMCA</td>\n      <td>43.653249</td>\n      <td>-79.358008</td>\n      <td>Distribution Center</td>\n    </tr>\n    <tr>\n      <th>3</th>\n      <td>Harbourfront</td>\n      <td>43.65426</td>\n      <td>-79.360636</td>\n      <td>Body Blitz Spa East</td>\n      <td>43.654735</td>\n      <td>-79.359874</td>\n      <td>Spa</td>\n    </tr>\n    <tr>\n      <th>4</th>\n      <td>Harbourfront</td>\n      <td>43.65426</td>\n      <td>-79.360636</td>\n      <td>Morning Glory Cafe</td>\n      <td>43.653947</td>\n      <td>-79.361149</td>\n      <td>Breakfast Spot</td>\n    </tr>\n  </tbody>\n</table>\n</div>",
                        "text/plain": "    Neighborhood  Neighborhood Latitude  Neighborhood Longitude  \\\n0   Harbourfront               43.65426              -79.360636   \n1   Harbourfront               43.65426              -79.360636   \n2   Harbourfront               43.65426              -79.360636   \n3   Harbourfront               43.65426              -79.360636   \n4   Harbourfront               43.65426              -79.360636   \n\n                    Venue  Venue Latitude  Venue Longitude  \\\n0        Roselle Desserts       43.653447       -79.362017   \n1           Tandem Coffee       43.653559       -79.361809   \n2  Cooper Koo Family YMCA       43.653249       -79.358008   \n3     Body Blitz Spa East       43.654735       -79.359874   \n4      Morning Glory Cafe       43.653947       -79.361149   \n\n        Venue Category  \n0               Bakery  \n1          Coffee Shop  \n2  Distribution Center  \n3                  Spa  \n4       Breakfast Spot  "
                    },
                    "execution_count": 206,
                    "metadata": {},
                    "output_type": "execute_result"
                }
            ],
            "source": "potential_venues = getNearbyVenues(names=n['Neighborhood'],\n                                   latitudes=n['Latitude'],\n                                   longitudes=n['Longitude']\n                                  )\npotential_venues.head()"
        },
        {
            "cell_type": "code",
            "execution_count": 220,
            "metadata": {},
            "outputs": [],
            "source": "picks=potential_venues.groupby('Neighborhood').count()"
        },
        {
            "cell_type": "code",
            "execution_count": 221,
            "metadata": {},
            "outputs": [
                {
                    "data": {
                        "text/html": "<div>\n<style scoped>\n    .dataframe tbody tr th:only-of-type {\n        vertical-align: middle;\n    }\n\n    .dataframe tbody tr th {\n        vertical-align: top;\n    }\n\n    .dataframe thead th {\n        text-align: right;\n    }\n</style>\n<table border=\"1\" class=\"dataframe\">\n  <thead>\n    <tr style=\"text-align: right;\">\n      <th></th>\n      <th>Neighborhood</th>\n      <th>Venue Category</th>\n    </tr>\n  </thead>\n  <tbody>\n    <tr>\n      <th>0</th>\n      <td>Harbourfront</td>\n      <td>10</td>\n    </tr>\n    <tr>\n      <th>1</th>\n      <td>Ontario Provincial Government</td>\n      <td>10</td>\n    </tr>\n    <tr>\n      <th>2</th>\n      <td>The Beaches West</td>\n      <td>10</td>\n    </tr>\n    <tr>\n      <th>3</th>\n      <td>Berczy Park</td>\n      <td>10</td>\n    </tr>\n    <tr>\n      <th>4</th>\n      <td>Canada Post Gateway Processing Centre</td>\n      <td>10</td>\n    </tr>\n    <tr>\n      <th>5</th>\n      <td>Davisville North</td>\n      <td>8</td>\n    </tr>\n    <tr>\n      <th>6</th>\n      <td>India Bazaar</td>\n      <td>10</td>\n    </tr>\n    <tr>\n      <th>7</th>\n      <td>Queen's Park</td>\n      <td>10</td>\n    </tr>\n    <tr>\n      <th>8</th>\n      <td>Regent Park</td>\n      <td>10</td>\n    </tr>\n    <tr>\n      <th>9</th>\n      <td>Willowdale</td>\n      <td>17</td>\n    </tr>\n  </tbody>\n</table>\n</div>",
                        "text/plain": "                            Neighborhood  Venue Category\n0                           Harbourfront              10\n1          Ontario Provincial Government              10\n2                       The Beaches West              10\n3                            Berczy Park              10\n4  Canada Post Gateway Processing Centre              10\n5                       Davisville North               8\n6                          India Bazaar               10\n7                          Queen's Park               10\n8                           Regent Park               10\n9                             Willowdale              17"
                    },
                    "execution_count": 221,
                    "metadata": {},
                    "output_type": "execute_result"
                }
            ],
            "source": "picks = picks.drop('Neighborhood Latitude',1)\npicks = picks.drop('Neighborhood Longitude',1)\npicks = picks.drop('Venue Latitude',1)\npicks = picks.drop('Venue Longitude',1)\npicks = picks.drop('Venue',1)\npicks = picks.reset_index()\npicks"
        },
        {
            "cell_type": "code",
            "execution_count": 231,
            "metadata": {},
            "outputs": [
                {
                    "data": {
                        "text/html": "<div>\n<style scoped>\n    .dataframe tbody tr th:only-of-type {\n        vertical-align: middle;\n    }\n\n    .dataframe tbody tr th {\n        vertical-align: top;\n    }\n\n    .dataframe thead th {\n        text-align: right;\n    }\n</style>\n<table border=\"1\" class=\"dataframe\">\n  <thead>\n    <tr style=\"text-align: right;\">\n      <th></th>\n      <th>Neighborhood</th>\n      <th>Other categories</th>\n      <th>Hotel Number</th>\n    </tr>\n  </thead>\n  <tbody>\n    <tr>\n      <th>0</th>\n      <td>Harbourfront</td>\n      <td>10</td>\n      <td>2</td>\n    </tr>\n    <tr>\n      <th>1</th>\n      <td>Ontario Provincial Government</td>\n      <td>10</td>\n      <td>2</td>\n    </tr>\n    <tr>\n      <th>2</th>\n      <td>The Beaches West</td>\n      <td>10</td>\n      <td>1</td>\n    </tr>\n    <tr>\n      <th>3</th>\n      <td>Berczy Park</td>\n      <td>10</td>\n      <td>4</td>\n    </tr>\n    <tr>\n      <th>4</th>\n      <td>Canada Post Gateway Processing Centre</td>\n      <td>10</td>\n      <td>2</td>\n    </tr>\n    <tr>\n      <th>5</th>\n      <td>Davisville North</td>\n      <td>8</td>\n      <td>2</td>\n    </tr>\n    <tr>\n      <th>6</th>\n      <td>India Bazaar</td>\n      <td>10</td>\n      <td>1</td>\n    </tr>\n    <tr>\n      <th>7</th>\n      <td>Queen's Park</td>\n      <td>10</td>\n      <td>2</td>\n    </tr>\n    <tr>\n      <th>8</th>\n      <td>Regent Park</td>\n      <td>10</td>\n      <td>2</td>\n    </tr>\n    <tr>\n      <th>9</th>\n      <td>Willowdale</td>\n      <td>17</td>\n      <td>1</td>\n    </tr>\n  </tbody>\n</table>\n</div>",
                        "text/plain": "                            Neighborhood  Other categories  Hotel Number\n0                           Harbourfront                10             2\n1          Ontario Provincial Government                10             2\n2                       The Beaches West                10             1\n3                            Berczy Park                10             4\n4  Canada Post Gateway Processing Centre                10             2\n5                       Davisville North                 8             2\n6                          India Bazaar                 10             1\n7                          Queen's Park                 10             2\n8                           Regent Park                 10             2\n9                             Willowdale                17             1"
                    },
                    "execution_count": 231,
                    "metadata": {},
                    "output_type": "execute_result"
                }
            ],
            "source": "potentials = potentials.reset_index()\nchoice = picks.join(potentials.set_index('Neighborhood'),on='Neighborhood')\nchoice.columns=['Neighborhood', 'Other categories', 'Hotel Number'] \nchoice"
        },
        {
            "cell_type": "code",
            "execution_count": null,
            "metadata": {},
            "outputs": [],
            "source": "# Choose the neighborhood with limited hotel numbers and most other categories --> Willowdale / The Beache"
        }
    ],
    "metadata": {
        "kernelspec": {
            "display_name": "Python 3.6",
            "language": "python",
            "name": "python3"
        },
        "language_info": {
            "codemirror_mode": {
                "name": "ipython",
                "version": 3
            },
            "file_extension": ".py",
            "mimetype": "text/x-python",
            "name": "python",
            "nbconvert_exporter": "python",
            "pygments_lexer": "ipython3",
            "version": "3.6.9"
        }
    },
    "nbformat": 4,
    "nbformat_minor": 1
}